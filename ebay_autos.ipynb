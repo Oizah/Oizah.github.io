{
 "cells": [
  {
   "cell_type": "markdown",
   "metadata": {},
   "source": [
    "# Cleaning & Exploration of German Ebay Car Sales Data\n",
    "The dataset includes: <br>\n",
    "* dateCrawled - When this ad was first crawled. All field-values are taken from this date.\n",
    "* name - Name of the car.\n",
    "* seller - Whether the seller is private or a dealer.\n",
    "* offerType - The type of listing\n",
    "* price - The price on the ad to sell the car.\n",
    "* abtest - Whether the listing is included in an A/B test.\n",
    "* vehicleType - The vehicle Type.\n",
    "* yearOfRegistration - The year in which which year the car was first registered.\n",
    "* gearbox - The transmission type.\n",
    "* powerPS - The power of the car in PS.\n",
    "* model - The car model name.\n",
    "* kilometer - How many kilometers the car has driven.\n",
    "* monthOfRegistration - The month in which which year the car was first registered.\n",
    "* fuelType - What type of fuel the car uses.\n",
    "* brand - The brand of the car.\n",
    "* notRepairedDamage - If the car has a damage which is not yet repaired.\n",
    "* dateCreated - The date on which the eBay listing was created.\n",
    "* nrOfPictures - The number of pictures in the ad.\n",
    "* postalCode - The postal code for the location of the vehicle.\n",
    "* lastSeenOnline - When the crawler saw this ad last online.\n"
   ]
  },
  {
   "cell_type": "code",
   "execution_count": 2,
   "metadata": {},
   "outputs": [
    {
     "data": {
      "text/html": [
       "<div>\n",
       "<style scoped>\n",
       "    .dataframe tbody tr th:only-of-type {\n",
       "        vertical-align: middle;\n",
       "    }\n",
       "\n",
       "    .dataframe tbody tr th {\n",
       "        vertical-align: top;\n",
       "    }\n",
       "\n",
       "    .dataframe thead th {\n",
       "        text-align: right;\n",
       "    }\n",
       "</style>\n",
       "<table border=\"1\" class=\"dataframe\">\n",
       "  <thead>\n",
       "    <tr style=\"text-align: right;\">\n",
       "      <th></th>\n",
       "      <th>dateCrawled</th>\n",
       "      <th>name</th>\n",
       "      <th>seller</th>\n",
       "      <th>offerType</th>\n",
       "      <th>price</th>\n",
       "      <th>abtest</th>\n",
       "      <th>vehicleType</th>\n",
       "      <th>yearOfRegistration</th>\n",
       "      <th>gearbox</th>\n",
       "      <th>powerPS</th>\n",
       "      <th>model</th>\n",
       "      <th>odometer</th>\n",
       "      <th>monthOfRegistration</th>\n",
       "      <th>fuelType</th>\n",
       "      <th>brand</th>\n",
       "      <th>notRepairedDamage</th>\n",
       "      <th>dateCreated</th>\n",
       "      <th>nrOfPictures</th>\n",
       "      <th>postalCode</th>\n",
       "      <th>lastSeen</th>\n",
       "    </tr>\n",
       "  </thead>\n",
       "  <tbody>\n",
       "    <tr>\n",
       "      <th>0</th>\n",
       "      <td>3/26/2016 17:47</td>\n",
       "      <td>Peugeot_807_160_NAVTECH_ON_BOARD</td>\n",
       "      <td>privat</td>\n",
       "      <td>Angebot</td>\n",
       "      <td>$5,000</td>\n",
       "      <td>control</td>\n",
       "      <td>bus</td>\n",
       "      <td>2004</td>\n",
       "      <td>manuell</td>\n",
       "      <td>158</td>\n",
       "      <td>andere</td>\n",
       "      <td>150,000km</td>\n",
       "      <td>3</td>\n",
       "      <td>lpg</td>\n",
       "      <td>peugeot</td>\n",
       "      <td>nein</td>\n",
       "      <td>3/26/2016 0:00</td>\n",
       "      <td>0</td>\n",
       "      <td>79588</td>\n",
       "      <td>4/6/2016 6:45</td>\n",
       "    </tr>\n",
       "    <tr>\n",
       "      <th>1</th>\n",
       "      <td>4/4/2016 13:38</td>\n",
       "      <td>BMW_740i_4_4_Liter_HAMANN_UMBAU_Mega_Optik</td>\n",
       "      <td>privat</td>\n",
       "      <td>Angebot</td>\n",
       "      <td>$8,500</td>\n",
       "      <td>control</td>\n",
       "      <td>limousine</td>\n",
       "      <td>1997</td>\n",
       "      <td>automatik</td>\n",
       "      <td>286</td>\n",
       "      <td>7er</td>\n",
       "      <td>150,000km</td>\n",
       "      <td>6</td>\n",
       "      <td>benzin</td>\n",
       "      <td>bmw</td>\n",
       "      <td>nein</td>\n",
       "      <td>4/4/2016 0:00</td>\n",
       "      <td>0</td>\n",
       "      <td>71034</td>\n",
       "      <td>4/6/2016 14:45</td>\n",
       "    </tr>\n",
       "    <tr>\n",
       "      <th>2</th>\n",
       "      <td>3/26/2016 18:57</td>\n",
       "      <td>Volkswagen_Golf_1.6_United</td>\n",
       "      <td>privat</td>\n",
       "      <td>Angebot</td>\n",
       "      <td>$8,990</td>\n",
       "      <td>test</td>\n",
       "      <td>limousine</td>\n",
       "      <td>2009</td>\n",
       "      <td>manuell</td>\n",
       "      <td>102</td>\n",
       "      <td>golf</td>\n",
       "      <td>70,000km</td>\n",
       "      <td>7</td>\n",
       "      <td>benzin</td>\n",
       "      <td>volkswagen</td>\n",
       "      <td>nein</td>\n",
       "      <td>3/26/2016 0:00</td>\n",
       "      <td>0</td>\n",
       "      <td>35394</td>\n",
       "      <td>4/6/2016 20:15</td>\n",
       "    </tr>\n",
       "    <tr>\n",
       "      <th>3</th>\n",
       "      <td>3/12/2016 16:58</td>\n",
       "      <td>Smart_smart_fortwo_coupe_softouch/F1/Klima/Pan...</td>\n",
       "      <td>privat</td>\n",
       "      <td>Angebot</td>\n",
       "      <td>$4,350</td>\n",
       "      <td>control</td>\n",
       "      <td>kleinwagen</td>\n",
       "      <td>2007</td>\n",
       "      <td>automatik</td>\n",
       "      <td>71</td>\n",
       "      <td>fortwo</td>\n",
       "      <td>70,000km</td>\n",
       "      <td>6</td>\n",
       "      <td>benzin</td>\n",
       "      <td>smart</td>\n",
       "      <td>nein</td>\n",
       "      <td>3/12/2016 0:00</td>\n",
       "      <td>0</td>\n",
       "      <td>33729</td>\n",
       "      <td>3/15/2016 3:16</td>\n",
       "    </tr>\n",
       "    <tr>\n",
       "      <th>4</th>\n",
       "      <td>4/1/2016 14:38</td>\n",
       "      <td>Ford_Focus_1_6_Benzin_TÜV_neu_ist_sehr_gepfleg...</td>\n",
       "      <td>privat</td>\n",
       "      <td>Angebot</td>\n",
       "      <td>$1,350</td>\n",
       "      <td>test</td>\n",
       "      <td>kombi</td>\n",
       "      <td>2003</td>\n",
       "      <td>manuell</td>\n",
       "      <td>0</td>\n",
       "      <td>focus</td>\n",
       "      <td>150,000km</td>\n",
       "      <td>7</td>\n",
       "      <td>benzin</td>\n",
       "      <td>ford</td>\n",
       "      <td>nein</td>\n",
       "      <td>4/1/2016 0:00</td>\n",
       "      <td>0</td>\n",
       "      <td>39218</td>\n",
       "      <td>4/1/2016 14:38</td>\n",
       "    </tr>\n",
       "  </tbody>\n",
       "</table>\n",
       "</div>"
      ],
      "text/plain": [
       "       dateCrawled                                               name  seller  \\\n",
       "0  3/26/2016 17:47                   Peugeot_807_160_NAVTECH_ON_BOARD  privat   \n",
       "1   4/4/2016 13:38         BMW_740i_4_4_Liter_HAMANN_UMBAU_Mega_Optik  privat   \n",
       "2  3/26/2016 18:57                         Volkswagen_Golf_1.6_United  privat   \n",
       "3  3/12/2016 16:58  Smart_smart_fortwo_coupe_softouch/F1/Klima/Pan...  privat   \n",
       "4   4/1/2016 14:38  Ford_Focus_1_6_Benzin_TÜV_neu_ist_sehr_gepfleg...  privat   \n",
       "\n",
       "  offerType    price   abtest vehicleType  yearOfRegistration    gearbox  \\\n",
       "0   Angebot  $5,000   control         bus                2004    manuell   \n",
       "1   Angebot  $8,500   control   limousine                1997  automatik   \n",
       "2   Angebot  $8,990      test   limousine                2009    manuell   \n",
       "3   Angebot  $4,350   control  kleinwagen                2007  automatik   \n",
       "4   Angebot  $1,350      test       kombi                2003    manuell   \n",
       "\n",
       "   powerPS   model   odometer  monthOfRegistration fuelType       brand  \\\n",
       "0      158  andere  150,000km                    3      lpg     peugeot   \n",
       "1      286     7er  150,000km                    6   benzin         bmw   \n",
       "2      102    golf   70,000km                    7   benzin  volkswagen   \n",
       "3       71  fortwo   70,000km                    6   benzin       smart   \n",
       "4        0   focus  150,000km                    7   benzin        ford   \n",
       "\n",
       "  notRepairedDamage     dateCreated  nrOfPictures  postalCode        lastSeen  \n",
       "0              nein  3/26/2016 0:00             0       79588   4/6/2016 6:45  \n",
       "1              nein   4/4/2016 0:00             0       71034  4/6/2016 14:45  \n",
       "2              nein  3/26/2016 0:00             0       35394  4/6/2016 20:15  \n",
       "3              nein  3/12/2016 0:00             0       33729  3/15/2016 3:16  \n",
       "4              nein   4/1/2016 0:00             0       39218  4/1/2016 14:38  "
      ]
     },
     "execution_count": 2,
     "metadata": {},
     "output_type": "execute_result"
    }
   ],
   "source": [
    "#import libraries\n",
    "import pandas as pd\n",
    "import matplotlib.pyplot as plt\n",
    "%matplotlib inline\n",
    "autos = pd.read_csv(\"Ebay_autos.csv\")\n",
    "autos.head()"
   ]
  },
  {
   "cell_type": "markdown",
   "metadata": {},
   "source": [
    "**Drop Unnecessary Columns & Clean Columns** <br>\n",
    "*Some columns are not useful and should be removed <br>\n",
    "*convert the columns names from camelcase to python preferred snake_case"
   ]
  },
  {
   "cell_type": "code",
   "execution_count": 3,
   "metadata": {},
   "outputs": [],
   "source": [
    "# drop unneccesary columns\n",
    "autos = autos.drop(['name','seller','offerType','abtest','powerPS','model','fuelType','nrOfPictures','postalCode'],axis=1)"
   ]
  },
  {
   "cell_type": "code",
   "execution_count": 57,
   "metadata": {},
   "outputs": [
    {
     "data": {
      "text/html": [
       "<div>\n",
       "<style scoped>\n",
       "    .dataframe tbody tr th:only-of-type {\n",
       "        vertical-align: middle;\n",
       "    }\n",
       "\n",
       "    .dataframe tbody tr th {\n",
       "        vertical-align: top;\n",
       "    }\n",
       "\n",
       "    .dataframe thead th {\n",
       "        text-align: right;\n",
       "    }\n",
       "</style>\n",
       "<table border=\"1\" class=\"dataframe\">\n",
       "  <thead>\n",
       "    <tr style=\"text-align: right;\">\n",
       "      <th></th>\n",
       "      <th>date_crawled</th>\n",
       "      <th>price</th>\n",
       "      <th>vehicle_type</th>\n",
       "      <th>registration_year</th>\n",
       "      <th>gearbox</th>\n",
       "      <th>odometer</th>\n",
       "      <th>registration_month</th>\n",
       "      <th>brand</th>\n",
       "      <th>unrepaired_damage</th>\n",
       "      <th>date_created</th>\n",
       "      <th>last_seen</th>\n",
       "    </tr>\n",
       "  </thead>\n",
       "  <tbody>\n",
       "    <tr>\n",
       "      <th>0</th>\n",
       "      <td>3/26/2016 17:47</td>\n",
       "      <td>5000</td>\n",
       "      <td>bus</td>\n",
       "      <td>2004</td>\n",
       "      <td>manuell</td>\n",
       "      <td>150000</td>\n",
       "      <td>3</td>\n",
       "      <td>peugeot</td>\n",
       "      <td>nein</td>\n",
       "      <td>3/26/2016 0:00</td>\n",
       "      <td>4/6/2016 6:45</td>\n",
       "    </tr>\n",
       "    <tr>\n",
       "      <th>1</th>\n",
       "      <td>4/4/2016 13:38</td>\n",
       "      <td>8500</td>\n",
       "      <td>limousine</td>\n",
       "      <td>1997</td>\n",
       "      <td>automatik</td>\n",
       "      <td>150000</td>\n",
       "      <td>6</td>\n",
       "      <td>bmw</td>\n",
       "      <td>nein</td>\n",
       "      <td>4/4/2016 0:00</td>\n",
       "      <td>4/6/2016 14:45</td>\n",
       "    </tr>\n",
       "    <tr>\n",
       "      <th>2</th>\n",
       "      <td>3/26/2016 18:57</td>\n",
       "      <td>8990</td>\n",
       "      <td>limousine</td>\n",
       "      <td>2009</td>\n",
       "      <td>manuell</td>\n",
       "      <td>70000</td>\n",
       "      <td>7</td>\n",
       "      <td>volkswagen</td>\n",
       "      <td>nein</td>\n",
       "      <td>3/26/2016 0:00</td>\n",
       "      <td>4/6/2016 20:15</td>\n",
       "    </tr>\n",
       "    <tr>\n",
       "      <th>3</th>\n",
       "      <td>3/12/2016 16:58</td>\n",
       "      <td>4350</td>\n",
       "      <td>kleinwagen</td>\n",
       "      <td>2007</td>\n",
       "      <td>automatik</td>\n",
       "      <td>70000</td>\n",
       "      <td>6</td>\n",
       "      <td>smart</td>\n",
       "      <td>nein</td>\n",
       "      <td>3/12/2016 0:00</td>\n",
       "      <td>3/15/2016 3:16</td>\n",
       "    </tr>\n",
       "    <tr>\n",
       "      <th>4</th>\n",
       "      <td>4/1/2016 14:38</td>\n",
       "      <td>1350</td>\n",
       "      <td>kombi</td>\n",
       "      <td>2003</td>\n",
       "      <td>manuell</td>\n",
       "      <td>150000</td>\n",
       "      <td>7</td>\n",
       "      <td>ford</td>\n",
       "      <td>nein</td>\n",
       "      <td>4/1/2016 0:00</td>\n",
       "      <td>4/1/2016 14:38</td>\n",
       "    </tr>\n",
       "  </tbody>\n",
       "</table>\n",
       "</div>"
      ],
      "text/plain": [
       "      date_crawled  price vehicle_type  registration_year    gearbox  \\\n",
       "0  3/26/2016 17:47   5000          bus               2004    manuell   \n",
       "1   4/4/2016 13:38   8500    limousine               1997  automatik   \n",
       "2  3/26/2016 18:57   8990    limousine               2009    manuell   \n",
       "3  3/12/2016 16:58   4350   kleinwagen               2007  automatik   \n",
       "4   4/1/2016 14:38   1350        kombi               2003    manuell   \n",
       "\n",
       "   odometer  registration_month       brand unrepaired_damage    date_created  \\\n",
       "0    150000                   3     peugeot              nein  3/26/2016 0:00   \n",
       "1    150000                   6         bmw              nein   4/4/2016 0:00   \n",
       "2     70000                   7  volkswagen              nein  3/26/2016 0:00   \n",
       "3     70000                   6       smart              nein  3/12/2016 0:00   \n",
       "4    150000                   7        ford              nein   4/1/2016 0:00   \n",
       "\n",
       "        last_seen  \n",
       "0   4/6/2016 6:45  \n",
       "1  4/6/2016 14:45  \n",
       "2  4/6/2016 20:15  \n",
       "3  3/15/2016 3:16  \n",
       "4  4/1/2016 14:38  "
      ]
     },
     "execution_count": 57,
     "metadata": {},
     "output_type": "execute_result"
    }
   ],
   "source": [
    "# renaming the columns\n",
    "autos.columns = ['date_crawled','price','vehicle_type','registration_year','gearbox','odometer','registration_month','brand','unrepaired_damage','date_created','last_seen']\n",
    "autos.head()"
   ]
  },
  {
   "cell_type": "markdown",
   "metadata": {},
   "source": [
    "**Clean the Registration Column** \n",
    " * This column has some inaccurate values for instance year 1000,1001 etc that need to be removed\n",
    " * The years between 1900 and 2016 seems to be realistic\n"
   ]
  },
  {
   "cell_type": "code",
   "execution_count": 5,
   "metadata": {},
   "outputs": [
    {
     "data": {
      "text/plain": [
       "2000    3354\n",
       "2005    3015\n",
       "1999    3000\n",
       "2004    2737\n",
       "2003    2727\n",
       "2006    2708\n",
       "2001    2703\n",
       "2002    2533\n",
       "1998    2453\n",
       "2007    2304\n",
       "Name: registration_year, dtype: int64"
      ]
     },
     "execution_count": 5,
     "metadata": {},
     "output_type": "execute_result"
    }
   ],
   "source": [
    "# clean the registration column\n",
    "autos = autos[autos['registration_year'].between(1900,2016)]\n",
    "autos['registration_year'].value_counts().head(10)"
   ]
  },
  {
   "cell_type": "markdown",
   "metadata": {},
   "source": [
    "* Most of the registration occurred between the years 1998 and 2007 "
   ]
  },
  {
   "cell_type": "markdown",
   "metadata": {},
   "source": [
    "**Clean the Price Column**\n",
    "* The $ and comma need to be removed\n",
    "* Price suddenly jumped from 350k to 999k, this column has outliers that need to be removed"
   ]
  },
  {
   "cell_type": "code",
   "execution_count": 6,
   "metadata": {},
   "outputs": [
    {
     "data": {
      "text/plain": [
       "0    5000\n",
       "1    8500\n",
       "2    8990\n",
       "3    4350\n",
       "4    1350\n",
       "Name: price, dtype: int32"
      ]
     },
     "execution_count": 6,
     "metadata": {},
     "output_type": "execute_result"
    }
   ],
   "source": [
    "# remove $ and comma from price column\n",
    "autos.price = ((autos.price.apply(lambda x: x.strip('$')).apply(lambda x: x.replace(',','')))).astype(int)\n",
    "autos.price.head()"
   ]
  },
  {
   "cell_type": "code",
   "execution_count": 7,
   "metadata": {},
   "outputs": [
    {
     "data": {
      "text/plain": [
       "99999999    1\n",
       "27322222    1\n",
       "12345678    1\n",
       "11111111    2\n",
       "10000000    1\n",
       "3890000     1\n",
       "1300000     1\n",
       "1234566     1\n",
       "999999      2\n",
       "999990      1\n",
       "350000      1\n",
       "345000      1\n",
       "299000      1\n",
       "295000      1\n",
       "265000      1\n",
       "259000      1\n",
       "250000      1\n",
       "220000      1\n",
       "198000      1\n",
       "197000      1\n",
       "Name: price, dtype: int64"
      ]
     },
     "execution_count": 7,
     "metadata": {},
     "output_type": "execute_result"
    }
   ],
   "source": [
    "# display the first 20 values of price column in ascending order\n",
    "autos['price'].value_counts().sort_index(ascending=False).head(20)\n"
   ]
  },
  {
   "cell_type": "markdown",
   "metadata": {},
   "source": [
    "*As shown above, price drastically changed from 350000 to 999990, and the prices aftrwards appear to be random. Hence, it is logical to consider prices above 350000 to be outliers and be removed from the column."
   ]
  },
  {
   "cell_type": "code",
   "execution_count": 61,
   "metadata": {},
   "outputs": [
    {
     "data": {
      "text/html": [
       "<div>\n",
       "<style scoped>\n",
       "    .dataframe tbody tr th:only-of-type {\n",
       "        vertical-align: middle;\n",
       "    }\n",
       "\n",
       "    .dataframe tbody tr th {\n",
       "        vertical-align: top;\n",
       "    }\n",
       "\n",
       "    .dataframe thead th {\n",
       "        text-align: right;\n",
       "    }\n",
       "</style>\n",
       "<table border=\"1\" class=\"dataframe\">\n",
       "  <thead>\n",
       "    <tr style=\"text-align: right;\">\n",
       "      <th></th>\n",
       "      <th>price</th>\n",
       "      <th>registration_year</th>\n",
       "      <th>odometer</th>\n",
       "      <th>registration_month</th>\n",
       "    </tr>\n",
       "  </thead>\n",
       "  <tbody>\n",
       "    <tr>\n",
       "      <th>count</th>\n",
       "      <td>46681.000000</td>\n",
       "      <td>46681.000000</td>\n",
       "      <td>46681.000000</td>\n",
       "      <td>46681.000000</td>\n",
       "    </tr>\n",
       "    <tr>\n",
       "      <th>mean</th>\n",
       "      <td>5977.716801</td>\n",
       "      <td>2002.910756</td>\n",
       "      <td>125586.855466</td>\n",
       "      <td>5.827125</td>\n",
       "    </tr>\n",
       "    <tr>\n",
       "      <th>std</th>\n",
       "      <td>9177.909479</td>\n",
       "      <td>7.185103</td>\n",
       "      <td>39852.528628</td>\n",
       "      <td>3.670300</td>\n",
       "    </tr>\n",
       "    <tr>\n",
       "      <th>min</th>\n",
       "      <td>1.000000</td>\n",
       "      <td>1910.000000</td>\n",
       "      <td>5000.000000</td>\n",
       "      <td>0.000000</td>\n",
       "    </tr>\n",
       "    <tr>\n",
       "      <th>25%</th>\n",
       "      <td>1250.000000</td>\n",
       "      <td>1999.000000</td>\n",
       "      <td>100000.000000</td>\n",
       "      <td>3.000000</td>\n",
       "    </tr>\n",
       "    <tr>\n",
       "      <th>50%</th>\n",
       "      <td>3100.000000</td>\n",
       "      <td>2003.000000</td>\n",
       "      <td>150000.000000</td>\n",
       "      <td>6.000000</td>\n",
       "    </tr>\n",
       "    <tr>\n",
       "      <th>75%</th>\n",
       "      <td>7500.000000</td>\n",
       "      <td>2008.000000</td>\n",
       "      <td>150000.000000</td>\n",
       "      <td>9.000000</td>\n",
       "    </tr>\n",
       "    <tr>\n",
       "      <th>max</th>\n",
       "      <td>350000.000000</td>\n",
       "      <td>2016.000000</td>\n",
       "      <td>150000.000000</td>\n",
       "      <td>12.000000</td>\n",
       "    </tr>\n",
       "  </tbody>\n",
       "</table>\n",
       "</div>"
      ],
      "text/plain": [
       "               price  registration_year       odometer  registration_month\n",
       "count   46681.000000       46681.000000   46681.000000        46681.000000\n",
       "mean     5977.716801        2002.910756  125586.855466            5.827125\n",
       "std      9177.909479           7.185103   39852.528628            3.670300\n",
       "min         1.000000        1910.000000    5000.000000            0.000000\n",
       "25%      1250.000000        1999.000000  100000.000000            3.000000\n",
       "50%      3100.000000        2003.000000  150000.000000            6.000000\n",
       "75%      7500.000000        2008.000000  150000.000000            9.000000\n",
       "max    350000.000000        2016.000000  150000.000000           12.000000"
      ]
     },
     "execution_count": 61,
     "metadata": {},
     "output_type": "execute_result"
    }
   ],
   "source": [
    "#describe the cleaned price column\n",
    "autos = autos[autos['price'].between(1,350000)]\n",
    "autos.describe()"
   ]
  },
  {
   "cell_type": "code",
   "execution_count": 9,
   "metadata": {},
   "outputs": [
    {
     "data": {
      "text/plain": [
       "0    150000\n",
       "1    150000\n",
       "2     70000\n",
       "3     70000\n",
       "4    150000\n",
       "Name: odometer, dtype: int32"
      ]
     },
     "execution_count": 9,
     "metadata": {},
     "output_type": "execute_result"
    }
   ],
   "source": [
    "#clean odometer column\n",
    "autos[\"odometer\"] = (autos[\"odometer\"].str.replace(\"km\",\"\").str.replace(\",\", \"\").astype(int))\n",
    "autos.odometer.head()"
   ]
  },
  {
   "cell_type": "code",
   "execution_count": 10,
   "metadata": {},
   "outputs": [
    {
     "data": {
      "image/png": "[encoded data removed]",
      "text/plain": [
       "<Figure size 432x288 with 1 Axes>"
      ]
     },
     "metadata": {
      "needs_background": "light"
     },
     "output_type": "display_data"
    }
   ],
   "source": [
    "autos.groupby('odometer').odometer.size().plot(kind='barh', title='Autos by Odometer')\n",
    "plt.show()"
   ]
  },
  {
   "cell_type": "markdown",
   "metadata": {},
   "source": [
    "*It is obvious from the graph above that cars listed on the German Ebay had mileage between 5000 and 150000. Though, the vast majority of listed cars had mileage greater than 125000"
   ]
  },
  {
   "cell_type": "code",
   "execution_count": 51,
   "metadata": {},
   "outputs": [
    {
     "data": {
      "text/plain": [
       "<matplotlib.axes._subplots.AxesSubplot at 0x28f137c7fd0>"
      ]
     },
     "execution_count": 51,
     "metadata": {},
     "output_type": "execute_result"
    },
    {
     "data": {
      "image/png": "[encoded data removed]",
      "text/plain": [
       "<Figure size 576x720 with 1 Axes>"
      ]
     },
     "metadata": {
      "needs_background": "light"
     },
     "output_type": "display_data"
    }
   ],
   "source": [
    "#auto by brand\n",
    "auto_brand = autos.groupby('brand').brand.size() \n",
    "auto_brand.sort_values(ascending=False).plot(kind='barh',figsize=(8,10),title='Autos by Brand')\n",
    "                                        "
   ]
  },
  {
   "cell_type": "markdown",
   "metadata": {},
   "source": [
    "* The most popular,which are also german brands are volkswagen,bmw,opel,mercedes_benz and audi"
   ]
  },
  {
   "cell_type": "code",
   "execution_count": 82,
   "metadata": {},
   "outputs": [
    {
     "data": {
      "text/plain": [
       "brand\n",
       "alfa_romeo         4087.690323\n",
       "audi               9336.687454\n",
       "bmw                8332.820518\n",
       "chevrolet          6684.139098\n",
       "chrysler           3465.743902\n",
       "citroen            3779.139144\n",
       "dacia              5915.528455\n",
       "daewoo             1049.000000\n",
       "daihatsu           1636.196581\n",
       "fiat               2813.748538\n",
       "ford               3749.469507\n",
       "honda              4107.857923\n",
       "hyundai            5365.254274\n",
       "jaguar            11635.493151\n",
       "jeep              11650.500000\n",
       "kia                5982.330303\n",
       "lada               2688.296296\n",
       "lancia             3376.220000\n",
       "land_rover        19108.091837\n",
       "mazda              4112.596615\n",
       "mercedes_benz      8628.450366\n",
       "mini              10613.459658\n",
       "mitsubishi         3394.572917\n",
       "nissan             4743.402525\n",
       "opel               2975.241935\n",
       "peugeot            3094.017229\n",
       "porsche           45643.937063\n",
       "renault            2474.864607\n",
       "rover              1602.290323\n",
       "saab               3211.649351\n",
       "seat               4397.230950\n",
       "skoda              6368.000000\n",
       "smart              3580.223903\n",
       "sonstige_autos    12338.550218\n",
       "subaru             3953.290000\n",
       "suzuki             4096.732852\n",
       "toyota             5167.091062\n",
       "trabant            1790.861538\n",
       "volkswagen         5402.410262\n",
       "volvo              4946.501171\n",
       "dtype: float64"
      ]
     },
     "execution_count": 82,
     "metadata": {},
     "output_type": "execute_result"
    }
   ],
   "source": [
    "autos.groupby('brand').apply(lambda x: x.price.mean())\n"
   ]
  },
  {
   "cell_type": "code",
   "execution_count": 85,
   "metadata": {},
   "outputs": [
    {
     "data": {
      "text/plain": [
       "odometer\n",
       "5000       8873.515924\n",
       "10000     20550.867220\n",
       "20000     18448.477089\n",
       "30000     16608.836842\n",
       "40000     15499.568381\n",
       "50000     13812.173212\n",
       "60000     12385.004433\n",
       "70000     10927.182814\n",
       "80000      9721.947636\n",
       "90000      8465.025105\n",
       "100000     8132.697279\n",
       "125000     6214.022030\n",
       "150000     3767.927107\n",
       "dtype: float64"
      ]
     },
     "execution_count": 85,
     "metadata": {},
     "output_type": "execute_result"
    }
   ],
   "source": [
    "autos.groupby('odometer').apply(lambda x: x.price.mean())"
   ]
  },
  {
   "cell_type": "markdown",
   "metadata": {},
   "source": [
    "* Average prices do not seem to follow a regular pattern based on the mileage. This is because other factors aside from mileage contribute to the value of a car."
   ]
  },
  {
   "cell_type": "code",
   "execution_count": 91,
   "metadata": {},
   "outputs": [
    {
     "data": {
      "text/plain": [
       "unrepaired_damage\n",
       "No     7164.033103\n",
       "Yes    2241.146035\n",
       "dtype: float64"
      ]
     },
     "execution_count": 91,
     "metadata": {},
     "output_type": "execute_result"
    }
   ],
   "source": [
    "# Average price of damaged & undamaged autos\n",
    "autos.replace(['ja','nein'],['Yes','No']).groupby('unrepaired_damage').apply(lambda x: x.price.mean())"
   ]
  },
  {
   "cell_type": "markdown",
   "metadata": {},
   "source": [
    "* The average price of cars without damage was approximately 7164 while for damaged cars was approximately 2241 "
   ]
  },
  {
   "cell_type": "code",
   "execution_count": null,
   "metadata": {},
   "outputs": [],
   "source": []
  }
 ],
 "metadata": {
  "kernelspec": {
   "display_name": "Python 3",
   "language": "python",
   "name": "python3"
  },
  "language_info": {
   "codemirror_mode": {
    "name": "ipython",
    "version": 3
   },
   "file_extension": ".py",
   "mimetype": "text/x-python",
   "name": "python",
   "nbconvert_exporter": "python",
   "pygments_lexer": "ipython3",
   "version": "3.7.3"
  }
 },
 "nbformat": 4,
 "nbformat_minor": 2
}
